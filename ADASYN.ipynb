{
 "cells": [
  {
   "cell_type": "code",
   "execution_count": 77,
   "metadata": {},
   "outputs": [],
   "source": [
    "import pandas as pd\n",
    "from sklearn.model_selection import train_test_split\n",
    "from imblearn.over_sampling import ADASYN\n",
    "from sklearn.neighbors import NearestNeighbors\n",
    "import matplotlib.pyplot as plt"
   ]
  },
  {
   "cell_type": "code",
   "execution_count": 78,
   "metadata": {},
   "outputs": [],
   "source": [
    "# Load dataset\n",
    "file_path = 'D:\\Tugas Akhir\\Stroke\\data_train.csv'\n",
    "df = pd.read_csv(file_path)\n",
    "\n",
    "# Pisahkan fitur dan target\n",
    "X = df.drop('stroke', axis=1)\n",
    "y = df['stroke']"
   ]
  },
  {
   "cell_type": "code",
   "execution_count": 79,
   "metadata": {},
   "outputs": [
    {
     "data": {
      "text/html": [
       "<div>\n",
       "<style scoped>\n",
       "    .dataframe tbody tr th:only-of-type {\n",
       "        vertical-align: middle;\n",
       "    }\n",
       "\n",
       "    .dataframe tbody tr th {\n",
       "        vertical-align: top;\n",
       "    }\n",
       "\n",
       "    .dataframe thead th {\n",
       "        text-align: right;\n",
       "    }\n",
       "</style>\n",
       "<table border=\"1\" class=\"dataframe\">\n",
       "  <thead>\n",
       "    <tr style=\"text-align: right;\">\n",
       "      <th></th>\n",
       "      <th>gender</th>\n",
       "      <th>age</th>\n",
       "      <th>hypertension</th>\n",
       "      <th>heart_disease</th>\n",
       "      <th>ever_married</th>\n",
       "      <th>work_type_Govt_job</th>\n",
       "      <th>work_type_Private</th>\n",
       "      <th>work_type_Self-employed</th>\n",
       "      <th>Residence_type</th>\n",
       "      <th>avg_glucose_level</th>\n",
       "      <th>bmi</th>\n",
       "      <th>smoking_status_Unknown</th>\n",
       "      <th>smoking_status_formerly smoked</th>\n",
       "      <th>smoking_status_never smoked</th>\n",
       "      <th>smoking_status_smokes</th>\n",
       "      <th>stroke</th>\n",
       "    </tr>\n",
       "  </thead>\n",
       "  <tbody>\n",
       "    <tr>\n",
       "      <th>0</th>\n",
       "      <td>1</td>\n",
       "      <td>0.1579</td>\n",
       "      <td>0</td>\n",
       "      <td>0</td>\n",
       "      <td>0</td>\n",
       "      <td>0</td>\n",
       "      <td>1</td>\n",
       "      <td>0</td>\n",
       "      <td>1</td>\n",
       "      <td>0.1477</td>\n",
       "      <td>0.5599</td>\n",
       "      <td>1</td>\n",
       "      <td>0</td>\n",
       "      <td>0</td>\n",
       "      <td>0</td>\n",
       "      <td>0</td>\n",
       "    </tr>\n",
       "    <tr>\n",
       "      <th>1</th>\n",
       "      <td>1</td>\n",
       "      <td>0.3509</td>\n",
       "      <td>0</td>\n",
       "      <td>0</td>\n",
       "      <td>0</td>\n",
       "      <td>0</td>\n",
       "      <td>0</td>\n",
       "      <td>1</td>\n",
       "      <td>0</td>\n",
       "      <td>0.1536</td>\n",
       "      <td>0.3719</td>\n",
       "      <td>0</td>\n",
       "      <td>0</td>\n",
       "      <td>1</td>\n",
       "      <td>0</td>\n",
       "      <td>0</td>\n",
       "    </tr>\n",
       "    <tr>\n",
       "      <th>2</th>\n",
       "      <td>1</td>\n",
       "      <td>0.4912</td>\n",
       "      <td>1</td>\n",
       "      <td>1</td>\n",
       "      <td>1</td>\n",
       "      <td>0</td>\n",
       "      <td>1</td>\n",
       "      <td>0</td>\n",
       "      <td>0</td>\n",
       "      <td>0.6513</td>\n",
       "      <td>0.2810</td>\n",
       "      <td>0</td>\n",
       "      <td>0</td>\n",
       "      <td>0</td>\n",
       "      <td>1</td>\n",
       "      <td>0</td>\n",
       "    </tr>\n",
       "    <tr>\n",
       "      <th>3</th>\n",
       "      <td>0</td>\n",
       "      <td>0.3158</td>\n",
       "      <td>0</td>\n",
       "      <td>0</td>\n",
       "      <td>0</td>\n",
       "      <td>1</td>\n",
       "      <td>0</td>\n",
       "      <td>0</td>\n",
       "      <td>0</td>\n",
       "      <td>0.1349</td>\n",
       "      <td>0.3864</td>\n",
       "      <td>0</td>\n",
       "      <td>0</td>\n",
       "      <td>0</td>\n",
       "      <td>1</td>\n",
       "      <td>0</td>\n",
       "    </tr>\n",
       "    <tr>\n",
       "      <th>4</th>\n",
       "      <td>1</td>\n",
       "      <td>0.9474</td>\n",
       "      <td>0</td>\n",
       "      <td>0</td>\n",
       "      <td>1</td>\n",
       "      <td>0</td>\n",
       "      <td>0</td>\n",
       "      <td>1</td>\n",
       "      <td>0</td>\n",
       "      <td>0.1067</td>\n",
       "      <td>0.4277</td>\n",
       "      <td>1</td>\n",
       "      <td>0</td>\n",
       "      <td>0</td>\n",
       "      <td>0</td>\n",
       "      <td>0</td>\n",
       "    </tr>\n",
       "    <tr>\n",
       "      <th>...</th>\n",
       "      <td>...</td>\n",
       "      <td>...</td>\n",
       "      <td>...</td>\n",
       "      <td>...</td>\n",
       "      <td>...</td>\n",
       "      <td>...</td>\n",
       "      <td>...</td>\n",
       "      <td>...</td>\n",
       "      <td>...</td>\n",
       "      <td>...</td>\n",
       "      <td>...</td>\n",
       "      <td>...</td>\n",
       "      <td>...</td>\n",
       "      <td>...</td>\n",
       "      <td>...</td>\n",
       "      <td>...</td>\n",
       "    </tr>\n",
       "    <tr>\n",
       "      <th>2946</th>\n",
       "      <td>1</td>\n",
       "      <td>0.0175</td>\n",
       "      <td>0</td>\n",
       "      <td>0</td>\n",
       "      <td>1</td>\n",
       "      <td>0</td>\n",
       "      <td>1</td>\n",
       "      <td>0</td>\n",
       "      <td>1</td>\n",
       "      <td>0.0403</td>\n",
       "      <td>0.1302</td>\n",
       "      <td>0</td>\n",
       "      <td>0</td>\n",
       "      <td>1</td>\n",
       "      <td>0</td>\n",
       "      <td>0</td>\n",
       "    </tr>\n",
       "    <tr>\n",
       "      <th>2947</th>\n",
       "      <td>0</td>\n",
       "      <td>0.5088</td>\n",
       "      <td>0</td>\n",
       "      <td>0</td>\n",
       "      <td>1</td>\n",
       "      <td>0</td>\n",
       "      <td>1</td>\n",
       "      <td>0</td>\n",
       "      <td>1</td>\n",
       "      <td>0.2090</td>\n",
       "      <td>0.8037</td>\n",
       "      <td>0</td>\n",
       "      <td>1</td>\n",
       "      <td>0</td>\n",
       "      <td>0</td>\n",
       "      <td>0</td>\n",
       "    </tr>\n",
       "    <tr>\n",
       "      <th>2948</th>\n",
       "      <td>1</td>\n",
       "      <td>0.6491</td>\n",
       "      <td>0</td>\n",
       "      <td>0</td>\n",
       "      <td>1</td>\n",
       "      <td>0</td>\n",
       "      <td>1</td>\n",
       "      <td>0</td>\n",
       "      <td>0</td>\n",
       "      <td>0.7270</td>\n",
       "      <td>0.5062</td>\n",
       "      <td>0</td>\n",
       "      <td>0</td>\n",
       "      <td>1</td>\n",
       "      <td>0</td>\n",
       "      <td>0</td>\n",
       "    </tr>\n",
       "    <tr>\n",
       "      <th>2949</th>\n",
       "      <td>0</td>\n",
       "      <td>0.2982</td>\n",
       "      <td>0</td>\n",
       "      <td>0</td>\n",
       "      <td>1</td>\n",
       "      <td>0</td>\n",
       "      <td>1</td>\n",
       "      <td>0</td>\n",
       "      <td>1</td>\n",
       "      <td>0.2561</td>\n",
       "      <td>0.4360</td>\n",
       "      <td>0</td>\n",
       "      <td>1</td>\n",
       "      <td>0</td>\n",
       "      <td>0</td>\n",
       "      <td>0</td>\n",
       "    </tr>\n",
       "    <tr>\n",
       "      <th>2950</th>\n",
       "      <td>1</td>\n",
       "      <td>0.4737</td>\n",
       "      <td>1</td>\n",
       "      <td>0</td>\n",
       "      <td>0</td>\n",
       "      <td>0</td>\n",
       "      <td>1</td>\n",
       "      <td>0</td>\n",
       "      <td>1</td>\n",
       "      <td>0.5311</td>\n",
       "      <td>0.3285</td>\n",
       "      <td>0</td>\n",
       "      <td>1</td>\n",
       "      <td>0</td>\n",
       "      <td>0</td>\n",
       "      <td>0</td>\n",
       "    </tr>\n",
       "  </tbody>\n",
       "</table>\n",
       "<p>2951 rows × 16 columns</p>\n",
       "</div>"
      ],
      "text/plain": [
       "      gender     age  hypertension  heart_disease  ever_married  \\\n",
       "0          1  0.1579             0              0             0   \n",
       "1          1  0.3509             0              0             0   \n",
       "2          1  0.4912             1              1             1   \n",
       "3          0  0.3158             0              0             0   \n",
       "4          1  0.9474             0              0             1   \n",
       "...      ...     ...           ...            ...           ...   \n",
       "2946       1  0.0175             0              0             1   \n",
       "2947       0  0.5088             0              0             1   \n",
       "2948       1  0.6491             0              0             1   \n",
       "2949       0  0.2982             0              0             1   \n",
       "2950       1  0.4737             1              0             0   \n",
       "\n",
       "      work_type_Govt_job  work_type_Private  work_type_Self-employed  \\\n",
       "0                      0                  1                        0   \n",
       "1                      0                  0                        1   \n",
       "2                      0                  1                        0   \n",
       "3                      1                  0                        0   \n",
       "4                      0                  0                        1   \n",
       "...                  ...                ...                      ...   \n",
       "2946                   0                  1                        0   \n",
       "2947                   0                  1                        0   \n",
       "2948                   0                  1                        0   \n",
       "2949                   0                  1                        0   \n",
       "2950                   0                  1                        0   \n",
       "\n",
       "      Residence_type  avg_glucose_level     bmi  smoking_status_Unknown  \\\n",
       "0                  1             0.1477  0.5599                       1   \n",
       "1                  0             0.1536  0.3719                       0   \n",
       "2                  0             0.6513  0.2810                       0   \n",
       "3                  0             0.1349  0.3864                       0   \n",
       "4                  0             0.1067  0.4277                       1   \n",
       "...              ...                ...     ...                     ...   \n",
       "2946               1             0.0403  0.1302                       0   \n",
       "2947               1             0.2090  0.8037                       0   \n",
       "2948               0             0.7270  0.5062                       0   \n",
       "2949               1             0.2561  0.4360                       0   \n",
       "2950               1             0.5311  0.3285                       0   \n",
       "\n",
       "      smoking_status_formerly smoked  smoking_status_never smoked  \\\n",
       "0                                  0                            0   \n",
       "1                                  0                            1   \n",
       "2                                  0                            0   \n",
       "3                                  0                            0   \n",
       "4                                  0                            0   \n",
       "...                              ...                          ...   \n",
       "2946                               0                            1   \n",
       "2947                               1                            0   \n",
       "2948                               0                            1   \n",
       "2949                               1                            0   \n",
       "2950                               1                            0   \n",
       "\n",
       "      smoking_status_smokes  stroke  \n",
       "0                         0       0  \n",
       "1                         0       0  \n",
       "2                         1       0  \n",
       "3                         1       0  \n",
       "4                         0       0  \n",
       "...                     ...     ...  \n",
       "2946                      0       0  \n",
       "2947                      0       0  \n",
       "2948                      0       0  \n",
       "2949                      0       0  \n",
       "2950                      0       0  \n",
       "\n",
       "[2951 rows x 16 columns]"
      ]
     },
     "execution_count": 79,
     "metadata": {},
     "output_type": "execute_result"
    }
   ],
   "source": [
    "df"
   ]
  },
  {
   "cell_type": "code",
   "execution_count": 80,
   "metadata": {},
   "outputs": [
    {
     "name": "stdout",
     "output_type": "stream",
     "text": [
      "Jumlah data untuk target stroke 0: 2785\n",
      "Jumlah data untuk target stroke 1: 166\n"
     ]
    }
   ],
   "source": [
    "# Hitung jumlah data untuk target stroke 0 dan 1\n",
    "hitung_data = df['stroke'].value_counts()\n",
    "# Cetak jumlah data untuk target stroke 0 dan 1\n",
    "print(f'Jumlah data untuk target stroke 0: {hitung_data[0]}')\n",
    "print(f'Jumlah data untuk target stroke 1: {hitung_data[1]}')"
   ]
  },
  {
   "cell_type": "code",
   "execution_count": 81,
   "metadata": {},
   "outputs": [
    {
     "data": {
      "image/png": "[encoded data removed]",
      "text/plain": [
       "<Figure size 800x800 with 1 Axes>"
      ]
     },
     "metadata": {},
     "output_type": "display_data"
    }
   ],
   "source": [
    "# Hitung frekuensi nilai unik dalam kolom 'stroke'\n",
    "stroke_counts = df['stroke'].value_counts()\n",
    "\n",
    "# Plotting diagram pie untuk kolom 'stroke'\n",
    "plt.figure(figsize=(8, 8))\n",
    "plt.pie(stroke_counts, labels=stroke_counts.index, autopct='%1.1f%%', startangle=90, colors=plt.cm.Paired.colors)\n",
    "\n",
    "# Tambahkan keterangan total data\n",
    "total_data = len(df['stroke'])\n",
    "plt.text(0, -1.1, f'Total Data: {total_data}', fontsize=12, ha='center')\n",
    "\n",
    "# Berikan judul\n",
    "plt.title('Diagram Pie Stroke')\n",
    "\n",
    "# Tampilkan diagram\n",
    "plt.show()"
   ]
  },
  {
   "cell_type": "code",
   "execution_count": 82,
   "metadata": {},
   "outputs": [
    {
     "name": "stdout",
     "output_type": "stream",
     "text": [
      "Jumlah Sampel Minoritas (Stroke=1): 166\n"
     ]
    }
   ],
   "source": [
    "# Langkah 1: Pilih sampel minoritas\n",
    "minority_class = X[y == 1]\n",
    "\n",
    "# Tampilkan jumlah sampel minoritas\n",
    "print(\"Jumlah Sampel Minoritas (Stroke=1):\", len(minority_class))\n"
   ]
  },
  {
   "cell_type": "code",
   "execution_count": 83,
   "metadata": {},
   "outputs": [
    {
     "name": "stdout",
     "output_type": "stream",
     "text": [
      "gender                              int64\n",
      "age                               float64\n",
      "hypertension                        int64\n",
      "heart_disease                       int64\n",
      "ever_married                        int64\n",
      "work_type_Govt_job                  int64\n",
      "work_type_Private                   int64\n",
      "work_type_Self-employed             int64\n",
      "Residence_type                      int64\n",
      "avg_glucose_level                 float64\n",
      "bmi                               float64\n",
      "smoking_status_Unknown              int64\n",
      "smoking_status_formerly smoked      int64\n",
      "smoking_status_never smoked         int64\n",
      "smoking_status_smokes               int64\n",
      "stroke                              int64\n",
      "dtype: object\n"
     ]
    }
   ],
   "source": [
    "print(df.dtypes)"
   ]
  },
  {
   "cell_type": "code",
   "execution_count": 84,
   "metadata": {},
   "outputs": [
    {
     "name": "stdout",
     "output_type": "stream",
     "text": [
      "Hasil Perhitungan Jarak:\n",
      "Distances:\n",
      "[[1.09331736 1.32218828]\n",
      " [0.28624615 1.07911498]\n",
      " [1.1121938  1.14431231]\n",
      " ...\n",
      " [0.57028948 0.68927816]\n",
      " [0.48077971 0.50584727]\n",
      " [1.03501535 1.09828232]]\n",
      "Indices:\n",
      "[[135  42]\n",
      " [132  35]\n",
      " [136  85]\n",
      " ...\n",
      " [101  61]\n",
      " [ 72 160]\n",
      " [161  97]]\n"
     ]
    }
   ],
   "source": [
    "# # Langkah 2: Hitung Jarak\n",
    "nn = NearestNeighbors(n_neighbors=2)\n",
    "nn.fit(minority_class)\n",
    "# distances, indices = nn.kneighbors(X)\n",
    "# nn.fit(X[y == 1])\n",
    "distances, indices = nn.kneighbors(X)\n",
    "# Tampilkan hasil perhitungan jarak\n",
    "print(\"Hasil Perhitungan Jarak:\")\n",
    "print(\"Distances:\")\n",
    "print(distances)\n",
    "print(\"Indices:\")\n",
    "print(indices)\n"
   ]
  },
  {
   "cell_type": "code",
   "execution_count": 85,
   "metadata": {},
   "outputs": [
    {
     "name": "stdout",
     "output_type": "stream",
     "text": [
      "Rasio antara kelas mayoritas dan kelas minoritas: 16.77710843373494\n"
     ]
    }
   ],
   "source": [
    "# Langkah 3: Hitung Rasio\n",
    "ratio = len(X[y == 0]) / len(minority_class)\n",
    "print(\"Rasio antara kelas mayoritas dan kelas minoritas:\", ratio)\n"
   ]
  },
  {
   "cell_type": "code",
   "execution_count": 87,
   "metadata": {},
   "outputs": [
    {
     "name": "stdout",
     "output_type": "stream",
     "text": [
      "Jumlah Sampel Minoritas (setelah oversampling): 166\n",
      "Desired Ratio (Rasio yang diinginkan): 0.4\n",
      "ADASYN Ratio (Rasio yang digunakan untuk ADASYN): -0.9761579892280072\n"
     ]
    }
   ],
   "source": [
    "# Langkah 4: Hitung Rasio ADASYN\n",
    "desired_ratio = 0.4  # Set sesuai dengan target Anda (30-40%)\n",
    "adasyn_ratio = min((desired_ratio / ratio, 1.0)) - 1.0  # Sesuaikan dengan rasio yang diinginkan\n",
    "print(\"Jumlah Sampel Minoritas (setelah oversampling):\", len(minority_class))\n",
    "print(\"Desired Ratio (Rasio yang diinginkan):\", desired_ratio)\n",
    "print(\"ADASYN Ratio (Rasio yang digunakan untuk ADASYN):\", adasyn_ratio)"
   ]
  },
  {
   "cell_type": "code",
   "execution_count": 88,
   "metadata": {},
   "outputs": [
    {
     "name": "stdout",
     "output_type": "stream",
     "text": [
      "Weight [0.03152363 0.02572827 0.02728271 ... 0.01643378 0.01206042 0.02618526]\n"
     ]
    }
   ],
   "source": [
    "# Langkah 5: Hitung Weight\n",
    "weights = distances[:, 1] * (1 + adasyn_ratio)  # Sesuaikan dengan rasio yang diinginkan\n",
    "print(\"Weight\", weights)"
   ]
  },
  {
   "cell_type": "code",
   "execution_count": 89,
   "metadata": {},
   "outputs": [
    {
     "name": "stdout",
     "output_type": "stream",
     "text": [
      "Hasil Sampel Sintetis (ADASYN):\n",
      "     gender       age  hypertension  heart_disease  ever_married  \\\n",
      "0  1.000000  0.895217      1.976158       0.000000      1.000000   \n",
      "1 -0.976158  1.239744     -0.976158       1.976158      1.976158   \n",
      "2  1.976158  0.878356      1.000000      -0.976158     -0.976158   \n",
      "3  1.976158  1.478332      1.976158       0.000000      0.000000   \n",
      "4  1.976158  0.929800      0.000000       0.000000      1.000000   \n",
      "\n",
      "   work_type_Govt_job  work_type_Private  work_type_Self-employed  \\\n",
      "0            0.000000          -0.976158                 1.976158   \n",
      "1            1.976158           0.000000                -0.976158   \n",
      "2            0.000000           1.000000                 0.000000   \n",
      "3            1.000000           0.000000                 0.000000   \n",
      "4            0.000000           1.976158                -0.976158   \n",
      "\n",
      "   Residence_type  avg_glucose_level       bmi  smoking_status_Unknown  \\\n",
      "0       -0.976158           1.213475  0.514363               -0.976158   \n",
      "1        1.976158           0.331470  0.188315                0.000000   \n",
      "2        0.000000          -0.194649  0.020441                0.000000   \n",
      "3        0.000000           0.260076  0.078045                0.000000   \n",
      "4        1.976158           0.910609  0.544889               -0.976158   \n",
      "\n",
      "   smoking_status_formerly smoked  smoking_status_never smoked  \\\n",
      "0                        1.976158                     0.000000   \n",
      "1                        0.000000                     1.000000   \n",
      "2                        0.000000                     1.976158   \n",
      "3                        1.976158                    -0.976158   \n",
      "4                        0.000000                     1.976158   \n",
      "\n",
      "   smoking_status_smokes  \n",
      "0               0.000000  \n",
      "1               0.000000  \n",
      "2              -0.976158  \n",
      "3               0.000000  \n",
      "4               0.000000  \n"
     ]
    }
   ],
   "source": [
    "# Langkah 6: Buat Sampel Sintetis (solusi alternatif)\n",
    "synthetic_samples = []\n",
    "\n",
    "for i in range(len(minority_class)):\n",
    "    synthetic_sample = minority_class.values[i] + adasyn_ratio * (minority_class.values[indices[i, 1]] - minority_class.values[i])\n",
    "    synthetic_samples.append(synthetic_sample)\n",
    "\n",
    "adasyn_samples = pd.DataFrame(synthetic_samples, columns=minority_class.columns)\n",
    "# Tampilkan hasil Sampel Sintetis (ADASYN)\n",
    "print(\"Hasil Sampel Sintetis (ADASYN):\")\n",
    "print(adasyn_samples.head())"
   ]
  },
  {
   "cell_type": "code",
   "execution_count": 90,
   "metadata": {},
   "outputs": [
    {
     "name": "stdout",
     "output_type": "stream",
     "text": [
      "Jumlah Sampel Setelah Oversampling: 3117\n"
     ]
    }
   ],
   "source": [
    "# Langkah 7: Gabungkan Sampel Sintetis dengan Dataset Asli\n",
    "oversampled_data = pd.concat([X, adasyn_samples], axis=0)\n",
    "oversampled_labels = pd.concat([y, pd.Series([1] * len(adasyn_samples))], axis=0)  # Tambahkan label untuk sampel sintetis\n",
    "\n",
    "# Verifikasi jumlah sampel setelah oversampling\n",
    "print(\"Jumlah Sampel Setelah Oversampling:\", len(oversampled_data))"
   ]
  },
  {
   "cell_type": "code",
   "execution_count": 91,
   "metadata": {},
   "outputs": [
    {
     "data": {
      "image/png": "[encoded data removed]",
      "text/plain": [
       "<Figure size 800x800 with 1 Axes>"
      ]
     },
     "metadata": {},
     "output_type": "display_data"
    }
   ],
   "source": [
    "# Hitung frekuensi nilai unik dalam kolom 'stroke' setelah oversampling\n",
    "oversampled_stroke_counts = oversampled_labels.value_counts()\n",
    "\n",
    "# Plotting diagram pie untuk kolom 'stroke' setelah oversampling\n",
    "plt.figure(figsize=(8, 8))\n",
    "plt.pie(oversampled_stroke_counts, labels=oversampled_stroke_counts.index, autopct='%1.1f%%', startangle=90, colors=plt.cm.Paired.colors)\n",
    "\n",
    "# Tambahkan keterangan total data setelah oversampling\n",
    "total_data_oversampled = len(oversampled_labels)\n",
    "plt.text(0, -1.1, f'Total Data Setelah Oversampling: {total_data_oversampled}', fontsize=12, ha='center')\n",
    "\n",
    "# Berikan judul\n",
    "plt.title('Diagram Pie Stroke Setelah Oversampling')\n",
    "\n",
    "# Tampilkan diagram setelah oversampling\n",
    "plt.show()\n"
   ]
  }
 ],
 "metadata": {
  "kernelspec": {
   "display_name": "Python 3",
   "language": "python",
   "name": "python3"
  },
  "language_info": {
   "codemirror_mode": {
    "name": "ipython",
    "version": 3
   },
   "file_extension": ".py",
   "mimetype": "text/x-python",
   "name": "python",
   "nbconvert_exporter": "python",
   "pygments_lexer": "ipython3",
   "version": "3.9.13"
  }
 },
 "nbformat": 4,
 "nbformat_minor": 2
}
